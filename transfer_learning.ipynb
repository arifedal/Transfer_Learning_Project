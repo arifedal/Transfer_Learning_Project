{
 "cells": [
  {
   "cell_type": "markdown",
   "metadata": {},
   "source": [
    "### Başlangıçta gerekli olan kütüphaneler import edildi."
   ]
  },
  {
   "cell_type": "code",
   "execution_count": 33,
   "metadata": {},
   "outputs": [
    {
     "name": "stdout",
     "output_type": "stream",
     "text": [
      "Device mapping: no known devices.\n"
     ]
    }
   ],
   "source": [
    "import os\n",
    "import numpy as np\n",
    "import shutil\n",
    "import glob\n",
    "import warnings\n",
    "warnings.filterwarnings('ignore')\n",
    "import tensorflow as tf\n",
    "from tqdm import tqdm\n",
    "from keras.preprocessing.image import ImageDataGenerator, load_img, img_to_array, array_to_img\n"
   ]
  },
  {
   "cell_type": "markdown",
   "metadata": {},
   "source": [
    "### Veri dosyası projeye aktarıldı."
   ]
  },
  {
   "cell_type": "code",
   "execution_count": 34,
   "metadata": {},
   "outputs": [],
   "source": [
    "import pathlib\n",
    "dataset_url = \"https://www.microsoft.com/en-us/download/details.aspx?id=54765\"\n",
    "data_dir = tf.keras.utils.get_file('PetImages', origin=dataset_url, untar=True)\n",
    "data_dir = pathlib.Path(data_dir)"
   ]
  },
  {
   "cell_type": "markdown",
   "metadata": {},
   "source": [
    "### Veri dosyasında uzantısı .jpg olan resimler çekilip, listeye çevrildi ve listenin uzunluğu yazdırıldı."
   ]
  },
  {
   "cell_type": "code",
   "execution_count": 35,
   "metadata": {},
   "outputs": [
    {
     "name": "stdout",
     "output_type": "stream",
     "text": [
      "25000\n"
     ]
    }
   ],
   "source": [
    "image_count = len(list(data_dir.glob('*/*.jpg')))\n",
    "print(image_count)"
   ]
  },
  {
   "cell_type": "markdown",
   "metadata": {},
   "source": [
    "### Resimleri yeniden boyutlandırmakiçin değişkenler oluşturuldu ve resimlerin yeni boyut değerleri verildi."
   ]
  },
  {
   "cell_type": "code",
   "execution_count": 36,
   "metadata": {},
   "outputs": [],
   "source": [
    "batch_size = 32\n",
    "img_height = 150\n",
    "img_width = 150"
   ]
  },
  {
   "cell_type": "markdown",
   "metadata": {},
   "source": [
    "### Veri dosyası train ve validation şeklinde bölündü."
   ]
  },
  {
   "cell_type": "code",
   "execution_count": 37,
   "metadata": {},
   "outputs": [
    {
     "name": "stdout",
     "output_type": "stream",
     "text": [
      "Found 25000 files belonging to 4 classes.\n",
      "Using 20000 files for training.\n"
     ]
    }
   ],
   "source": [
    "train_ds = tf.keras.utils.image_dataset_from_directory(\n",
    "  data_dir,\n",
    "  validation_split=0.2,\n",
    "  subset=\"training\",\n",
    "  seed=123,\n",
    "  image_size=(img_height, img_width),\n",
    "  batch_size=batch_size)"
   ]
  },
  {
   "cell_type": "code",
   "execution_count": 38,
   "metadata": {},
   "outputs": [
    {
     "name": "stdout",
     "output_type": "stream",
     "text": [
      "Found 25000 files belonging to 4 classes.\n",
      "Using 5000 files for validation.\n"
     ]
    }
   ],
   "source": [
    "val_ds = tf.keras.utils.image_dataset_from_directory(\n",
    "  data_dir,\n",
    "  validation_split=0.2,\n",
    "  subset=\"validation\",\n",
    "  seed=123,\n",
    "  image_size=(img_height, img_width),\n",
    "  batch_size=batch_size)"
   ]
  },
  {
   "cell_type": "markdown",
   "metadata": {},
   "source": [
    "### Sınıf isimleri yazdırıldı."
   ]
  },
  {
   "cell_type": "code",
   "execution_count": 39,
   "metadata": {},
   "outputs": [
    {
     "name": "stdout",
     "output_type": "stream",
     "text": [
      "['Cat', 'Dog', 'assets', 'variables']\n"
     ]
    }
   ],
   "source": [
    "class_names = train_ds.class_names\n",
    "print(class_names)"
   ]
  },
  {
   "cell_type": "markdown",
   "metadata": {},
   "source": [
    "### Kullanılacak model import edildi. \n",
    "### Model compile edildi ve model yapılandırılmasını kontrol etmek için summary metodu kullanıldı.."
   ]
  },
  {
   "cell_type": "code",
   "execution_count": 40,
   "metadata": {},
   "outputs": [
    {
     "name": "stdout",
     "output_type": "stream",
     "text": [
      "Model: \"model_1\"\n",
      "_________________________________________________________________\n",
      " Layer (type)                Output Shape              Param #   \n",
      "=================================================================\n",
      " input_2 (InputLayer)        [(None, 150, 150, 3)]     0         \n",
      "                                                                 \n",
      " block1_conv1 (Conv2D)       (None, 150, 150, 64)      1792      \n",
      "                                                                 \n",
      " block1_conv2 (Conv2D)       (None, 150, 150, 64)      36928     \n",
      "                                                                 \n",
      " block1_pool (MaxPooling2D)  (None, 75, 75, 64)        0         \n",
      "                                                                 \n",
      " block2_conv1 (Conv2D)       (None, 75, 75, 128)       73856     \n",
      "                                                                 \n",
      " block2_conv2 (Conv2D)       (None, 75, 75, 128)       147584    \n",
      "                                                                 \n",
      " block2_pool (MaxPooling2D)  (None, 37, 37, 128)       0         \n",
      "                                                                 \n",
      " block3_conv1 (Conv2D)       (None, 37, 37, 256)       295168    \n",
      "                                                                 \n",
      " block3_conv2 (Conv2D)       (None, 37, 37, 256)       590080    \n",
      "                                                                 \n",
      " block3_conv3 (Conv2D)       (None, 37, 37, 256)       590080    \n",
      "                                                                 \n",
      " block3_pool (MaxPooling2D)  (None, 18, 18, 256)       0         \n",
      "                                                                 \n",
      " block4_conv1 (Conv2D)       (None, 18, 18, 512)       1180160   \n",
      "                                                                 \n",
      " block4_conv2 (Conv2D)       (None, 18, 18, 512)       2359808   \n",
      "                                                                 \n",
      " block4_conv3 (Conv2D)       (None, 18, 18, 512)       2359808   \n",
      "                                                                 \n",
      " block4_pool (MaxPooling2D)  (None, 9, 9, 512)         0         \n",
      "                                                                 \n",
      " block5_conv1 (Conv2D)       (None, 9, 9, 512)         2359808   \n",
      "                                                                 \n",
      " block5_conv2 (Conv2D)       (None, 9, 9, 512)         2359808   \n",
      "                                                                 \n",
      " block5_conv3 (Conv2D)       (None, 9, 9, 512)         2359808   \n",
      "                                                                 \n",
      " block5_pool (MaxPooling2D)  (None, 4, 4, 512)         0         \n",
      "                                                                 \n",
      " flatten_1 (Flatten)         (None, 8192)              0         \n",
      "                                                                 \n",
      " dense_3 (Dense)             (None, 512)               4194816   \n",
      "                                                                 \n",
      " dropout_2 (Dropout)         (None, 512)               0         \n",
      "                                                                 \n",
      " dense_4 (Dense)             (None, 512)               262656    \n",
      "                                                                 \n",
      " dropout_3 (Dropout)         (None, 512)               0         \n",
      "                                                                 \n",
      " dense_5 (Dense)             (None, 1)                 513       \n",
      "                                                                 \n",
      "=================================================================\n",
      "Total params: 19,172,673\n",
      "Trainable params: 4,457,985\n",
      "Non-trainable params: 14,714,688\n",
      "_________________________________________________________________\n"
     ]
    }
   ],
   "source": [
    "\n",
    "import tensorflow as tf\n",
    "from tensorflow.keras.layers import  Flatten, Dense, Dropout\n",
    "from tensorflow.keras.applications import VGG16\n",
    "from tensorflow.keras.models import Model\n",
    "from tensorflow.keras import optimizers\n",
    "\n",
    "input_shape = (150, 150, 3)\n",
    "\n",
    "vgg = VGG16(include_top=False, weights='imagenet',input_shape=input_shape)\n",
    "\n",
    "vgg.trainable = False\n",
    "for layer in vgg.layers[:-8]:\n",
    "    layer.trainable = False\n",
    "\n",
    "vgg_output = vgg.layers[-1].output\n",
    "\n",
    "head_model = Flatten()(vgg_output)\n",
    "head_model = Dense(512, activation='relu')(head_model)\n",
    "head_model = Dropout(0.3)(head_model)\n",
    "\n",
    "head_model = Dense(512, activation='relu')(head_model)\n",
    "head_model = Dropout(0.3)(head_model)\n",
    "\n",
    "output = Dense(1, activation='sigmoid')(head_model)\n",
    "model = Model(vgg.input, output)\n",
    "\n",
    "\n",
    "model.compile(loss='binary_crossentropy',\n",
    "              optimizer=optimizers.RMSprop(lr=1e-4),\n",
    "              metrics=['accuracy'])\n",
    "\n",
    "\n",
    "model.summary()\n",
    "\n"
   ]
  },
  {
   "cell_type": "markdown",
   "metadata": {},
   "source": [
    "### Kullanılacak etiketler oluşturuldu."
   ]
  },
  {
   "cell_type": "code",
   "execution_count": 41,
   "metadata": {},
   "outputs": [
    {
     "data": {
      "text/html": [
       "<div>\n",
       "<style scoped>\n",
       "    .dataframe tbody tr th:only-of-type {\n",
       "        vertical-align: middle;\n",
       "    }\n",
       "\n",
       "    .dataframe tbody tr th {\n",
       "        vertical-align: top;\n",
       "    }\n",
       "\n",
       "    .dataframe thead th {\n",
       "        text-align: right;\n",
       "    }\n",
       "</style>\n",
       "<table border=\"1\" class=\"dataframe\">\n",
       "  <thead>\n",
       "    <tr style=\"text-align: right;\">\n",
       "      <th></th>\n",
       "      <th>Layer Type</th>\n",
       "      <th>Layer Name</th>\n",
       "      <th>Layer Trainable</th>\n",
       "    </tr>\n",
       "  </thead>\n",
       "  <tbody>\n",
       "    <tr>\n",
       "      <th>0</th>\n",
       "      <td>&lt;keras.engine.input_layer.InputLayer object at...</td>\n",
       "      <td>input_2</td>\n",
       "      <td>False</td>\n",
       "    </tr>\n",
       "    <tr>\n",
       "      <th>1</th>\n",
       "      <td>&lt;keras.layers.convolutional.Conv2D object at 0...</td>\n",
       "      <td>block1_conv1</td>\n",
       "      <td>False</td>\n",
       "    </tr>\n",
       "    <tr>\n",
       "      <th>2</th>\n",
       "      <td>&lt;keras.layers.convolutional.Conv2D object at 0...</td>\n",
       "      <td>block1_conv2</td>\n",
       "      <td>False</td>\n",
       "    </tr>\n",
       "    <tr>\n",
       "      <th>3</th>\n",
       "      <td>&lt;keras.layers.pooling.MaxPooling2D object at 0...</td>\n",
       "      <td>block1_pool</td>\n",
       "      <td>False</td>\n",
       "    </tr>\n",
       "    <tr>\n",
       "      <th>4</th>\n",
       "      <td>&lt;keras.layers.convolutional.Conv2D object at 0...</td>\n",
       "      <td>block2_conv1</td>\n",
       "      <td>False</td>\n",
       "    </tr>\n",
       "    <tr>\n",
       "      <th>5</th>\n",
       "      <td>&lt;keras.layers.convolutional.Conv2D object at 0...</td>\n",
       "      <td>block2_conv2</td>\n",
       "      <td>False</td>\n",
       "    </tr>\n",
       "    <tr>\n",
       "      <th>6</th>\n",
       "      <td>&lt;keras.layers.pooling.MaxPooling2D object at 0...</td>\n",
       "      <td>block2_pool</td>\n",
       "      <td>False</td>\n",
       "    </tr>\n",
       "    <tr>\n",
       "      <th>7</th>\n",
       "      <td>&lt;keras.layers.convolutional.Conv2D object at 0...</td>\n",
       "      <td>block3_conv1</td>\n",
       "      <td>False</td>\n",
       "    </tr>\n",
       "    <tr>\n",
       "      <th>8</th>\n",
       "      <td>&lt;keras.layers.convolutional.Conv2D object at 0...</td>\n",
       "      <td>block3_conv2</td>\n",
       "      <td>False</td>\n",
       "    </tr>\n",
       "    <tr>\n",
       "      <th>9</th>\n",
       "      <td>&lt;keras.layers.convolutional.Conv2D object at 0...</td>\n",
       "      <td>block3_conv3</td>\n",
       "      <td>False</td>\n",
       "    </tr>\n",
       "    <tr>\n",
       "      <th>10</th>\n",
       "      <td>&lt;keras.layers.pooling.MaxPooling2D object at 0...</td>\n",
       "      <td>block3_pool</td>\n",
       "      <td>False</td>\n",
       "    </tr>\n",
       "    <tr>\n",
       "      <th>11</th>\n",
       "      <td>&lt;keras.layers.convolutional.Conv2D object at 0...</td>\n",
       "      <td>block4_conv1</td>\n",
       "      <td>False</td>\n",
       "    </tr>\n",
       "    <tr>\n",
       "      <th>12</th>\n",
       "      <td>&lt;keras.layers.convolutional.Conv2D object at 0...</td>\n",
       "      <td>block4_conv2</td>\n",
       "      <td>False</td>\n",
       "    </tr>\n",
       "    <tr>\n",
       "      <th>13</th>\n",
       "      <td>&lt;keras.layers.convolutional.Conv2D object at 0...</td>\n",
       "      <td>block4_conv3</td>\n",
       "      <td>False</td>\n",
       "    </tr>\n",
       "    <tr>\n",
       "      <th>14</th>\n",
       "      <td>&lt;keras.layers.pooling.MaxPooling2D object at 0...</td>\n",
       "      <td>block4_pool</td>\n",
       "      <td>False</td>\n",
       "    </tr>\n",
       "    <tr>\n",
       "      <th>15</th>\n",
       "      <td>&lt;keras.layers.convolutional.Conv2D object at 0...</td>\n",
       "      <td>block5_conv1</td>\n",
       "      <td>False</td>\n",
       "    </tr>\n",
       "    <tr>\n",
       "      <th>16</th>\n",
       "      <td>&lt;keras.layers.convolutional.Conv2D object at 0...</td>\n",
       "      <td>block5_conv2</td>\n",
       "      <td>False</td>\n",
       "    </tr>\n",
       "    <tr>\n",
       "      <th>17</th>\n",
       "      <td>&lt;keras.layers.convolutional.Conv2D object at 0...</td>\n",
       "      <td>block5_conv3</td>\n",
       "      <td>False</td>\n",
       "    </tr>\n",
       "    <tr>\n",
       "      <th>18</th>\n",
       "      <td>&lt;keras.layers.pooling.MaxPooling2D object at 0...</td>\n",
       "      <td>block5_pool</td>\n",
       "      <td>False</td>\n",
       "    </tr>\n",
       "    <tr>\n",
       "      <th>19</th>\n",
       "      <td>&lt;keras.layers.core.flatten.Flatten object at 0...</td>\n",
       "      <td>flatten_1</td>\n",
       "      <td>True</td>\n",
       "    </tr>\n",
       "    <tr>\n",
       "      <th>20</th>\n",
       "      <td>&lt;keras.layers.core.dense.Dense object at 0x000...</td>\n",
       "      <td>dense_3</td>\n",
       "      <td>True</td>\n",
       "    </tr>\n",
       "    <tr>\n",
       "      <th>21</th>\n",
       "      <td>&lt;keras.layers.core.dropout.Dropout object at 0...</td>\n",
       "      <td>dropout_2</td>\n",
       "      <td>True</td>\n",
       "    </tr>\n",
       "    <tr>\n",
       "      <th>22</th>\n",
       "      <td>&lt;keras.layers.core.dense.Dense object at 0x000...</td>\n",
       "      <td>dense_4</td>\n",
       "      <td>True</td>\n",
       "    </tr>\n",
       "    <tr>\n",
       "      <th>23</th>\n",
       "      <td>&lt;keras.layers.core.dropout.Dropout object at 0...</td>\n",
       "      <td>dropout_3</td>\n",
       "      <td>True</td>\n",
       "    </tr>\n",
       "    <tr>\n",
       "      <th>24</th>\n",
       "      <td>&lt;keras.layers.core.dense.Dense object at 0x000...</td>\n",
       "      <td>dense_5</td>\n",
       "      <td>True</td>\n",
       "    </tr>\n",
       "  </tbody>\n",
       "</table>\n",
       "</div>"
      ],
      "text/plain": [
       "                                           Layer Type    Layer Name  \\\n",
       "0   <keras.engine.input_layer.InputLayer object at...       input_2   \n",
       "1   <keras.layers.convolutional.Conv2D object at 0...  block1_conv1   \n",
       "2   <keras.layers.convolutional.Conv2D object at 0...  block1_conv2   \n",
       "3   <keras.layers.pooling.MaxPooling2D object at 0...   block1_pool   \n",
       "4   <keras.layers.convolutional.Conv2D object at 0...  block2_conv1   \n",
       "5   <keras.layers.convolutional.Conv2D object at 0...  block2_conv2   \n",
       "6   <keras.layers.pooling.MaxPooling2D object at 0...   block2_pool   \n",
       "7   <keras.layers.convolutional.Conv2D object at 0...  block3_conv1   \n",
       "8   <keras.layers.convolutional.Conv2D object at 0...  block3_conv2   \n",
       "9   <keras.layers.convolutional.Conv2D object at 0...  block3_conv3   \n",
       "10  <keras.layers.pooling.MaxPooling2D object at 0...   block3_pool   \n",
       "11  <keras.layers.convolutional.Conv2D object at 0...  block4_conv1   \n",
       "12  <keras.layers.convolutional.Conv2D object at 0...  block4_conv2   \n",
       "13  <keras.layers.convolutional.Conv2D object at 0...  block4_conv3   \n",
       "14  <keras.layers.pooling.MaxPooling2D object at 0...   block4_pool   \n",
       "15  <keras.layers.convolutional.Conv2D object at 0...  block5_conv1   \n",
       "16  <keras.layers.convolutional.Conv2D object at 0...  block5_conv2   \n",
       "17  <keras.layers.convolutional.Conv2D object at 0...  block5_conv3   \n",
       "18  <keras.layers.pooling.MaxPooling2D object at 0...   block5_pool   \n",
       "19  <keras.layers.core.flatten.Flatten object at 0...     flatten_1   \n",
       "20  <keras.layers.core.dense.Dense object at 0x000...       dense_3   \n",
       "21  <keras.layers.core.dropout.Dropout object at 0...     dropout_2   \n",
       "22  <keras.layers.core.dense.Dense object at 0x000...       dense_4   \n",
       "23  <keras.layers.core.dropout.Dropout object at 0...     dropout_3   \n",
       "24  <keras.layers.core.dense.Dense object at 0x000...       dense_5   \n",
       "\n",
       "    Layer Trainable  \n",
       "0             False  \n",
       "1             False  \n",
       "2             False  \n",
       "3             False  \n",
       "4             False  \n",
       "5             False  \n",
       "6             False  \n",
       "7             False  \n",
       "8             False  \n",
       "9             False  \n",
       "10            False  \n",
       "11            False  \n",
       "12            False  \n",
       "13            False  \n",
       "14            False  \n",
       "15            False  \n",
       "16            False  \n",
       "17            False  \n",
       "18            False  \n",
       "19             True  \n",
       "20             True  \n",
       "21             True  \n",
       "22             True  \n",
       "23             True  \n",
       "24             True  "
      ]
     },
     "execution_count": 41,
     "metadata": {},
     "output_type": "execute_result"
    }
   ],
   "source": [
    "import pandas as pd\n",
    "layers = [(layer, layer.name, layer.trainable) for layer in model.layers]\n",
    "pd.DataFrame(layers, columns=['Layer Type', 'Layer Name', 'Layer Trainable']) "
   ]
  },
  {
   "cell_type": "markdown",
   "metadata": {},
   "source": [
    "### Model fit edildi."
   ]
  },
  {
   "cell_type": "code",
   "execution_count": 42,
   "metadata": {},
   "outputs": [
    {
     "name": "stdout",
     "output_type": "stream",
     "text": [
      "Epoch 1/10\n",
      "\n",
      "Epoch 1: val_accuracy improved from -inf to 0.86250, saving model to C:/Users/Arife/.keras/datasets\\PetImages\n",
      "INFO:tensorflow:Assets written to: C:/Users/Arife/.keras/datasets\\PetImages\\assets\n",
      "10/10 - 46s - loss: 6.2225 - accuracy: 0.6500 - val_loss: 1.1218 - val_accuracy: 0.8625 - 46s/epoch - 5s/step\n",
      "Epoch 2/10\n",
      "\n",
      "Epoch 2: val_accuracy improved from 0.86250 to 0.88125, saving model to C:/Users/Arife/.keras/datasets\\PetImages\n",
      "INFO:tensorflow:Assets written to: C:/Users/Arife/.keras/datasets\\PetImages\\assets\n",
      "10/10 - 40s - loss: 1.9304 - accuracy: 0.8531 - val_loss: 1.1018 - val_accuracy: 0.8813 - 40s/epoch - 4s/step\n",
      "Epoch 3/10\n",
      "\n",
      "Epoch 3: val_accuracy improved from 0.88125 to 0.88750, saving model to C:/Users/Arife/.keras/datasets\\PetImages\n",
      "INFO:tensorflow:Assets written to: C:/Users/Arife/.keras/datasets\\PetImages\\assets\n",
      "10/10 - 44s - loss: 1.7559 - accuracy: 0.8500 - val_loss: 1.1553 - val_accuracy: 0.8875 - 44s/epoch - 4s/step\n",
      "Epoch 4/10\n",
      "\n",
      "Epoch 4: val_accuracy did not improve from 0.88750\n",
      "10/10 - 38s - loss: 1.2423 - accuracy: 0.8562 - val_loss: 1.0363 - val_accuracy: 0.8875 - 38s/epoch - 4s/step\n",
      "Epoch 5/10\n",
      "\n",
      "Epoch 5: val_accuracy improved from 0.88750 to 0.91250, saving model to C:/Users/Arife/.keras/datasets\\PetImages\n",
      "INFO:tensorflow:Assets written to: C:/Users/Arife/.keras/datasets\\PetImages\\assets\n",
      "10/10 - 44s - loss: 0.9311 - accuracy: 0.9031 - val_loss: 1.2243 - val_accuracy: 0.9125 - 44s/epoch - 4s/step\n",
      "Epoch 6/10\n",
      "\n",
      "Epoch 6: val_accuracy improved from 0.91250 to 0.91875, saving model to C:/Users/Arife/.keras/datasets\\PetImages\n",
      "INFO:tensorflow:Assets written to: C:/Users/Arife/.keras/datasets\\PetImages\\assets\n",
      "10/10 - 39s - loss: 1.5057 - accuracy: 0.8938 - val_loss: 1.1620 - val_accuracy: 0.9187 - 39s/epoch - 4s/step\n",
      "Epoch 7/10\n",
      "\n",
      "Epoch 7: val_accuracy improved from 0.91875 to 0.92500, saving model to C:/Users/Arife/.keras/datasets\\PetImages\n",
      "INFO:tensorflow:Assets written to: C:/Users/Arife/.keras/datasets\\PetImages\\assets\n",
      "10/10 - 42s - loss: 1.2730 - accuracy: 0.8719 - val_loss: 0.7158 - val_accuracy: 0.9250 - 42s/epoch - 4s/step\n",
      "Epoch 8/10\n",
      "\n",
      "Epoch 8: val_accuracy improved from 0.92500 to 0.95000, saving model to C:/Users/Arife/.keras/datasets\\PetImages\n",
      "INFO:tensorflow:Assets written to: C:/Users/Arife/.keras/datasets\\PetImages\\assets\n",
      "10/10 - 43s - loss: 1.3947 - accuracy: 0.8781 - val_loss: 0.2024 - val_accuracy: 0.9500 - 43s/epoch - 4s/step\n",
      "Epoch 9/10\n",
      "\n",
      "Epoch 9: val_accuracy did not improve from 0.95000\n",
      "10/10 - 38s - loss: 1.2755 - accuracy: 0.8938 - val_loss: 0.4617 - val_accuracy: 0.9438 - 38s/epoch - 4s/step\n",
      "Epoch 10/10\n",
      "\n",
      "Epoch 10: val_accuracy did not improve from 0.95000\n",
      "10/10 - 42s - loss: 0.9959 - accuracy: 0.9031 - val_loss: 0.6766 - val_accuracy: 0.9312 - 42s/epoch - 4s/step\n"
     ]
    }
   ],
   "source": [
    "from keras.callbacks import EarlyStopping, ModelCheckpoint\n",
    "\n",
    "filepath = \"C:/Users/Arife/.keras/datasets/PetImages\"\n",
    "\n",
    "save_model_cb = ModelCheckpoint(\n",
    "    filepath, monitor='val_accuracy', verbose=2, save_best_only=True, mode='max')\n",
    "# callback to stop the training if no improvement\n",
    "early_stopping_cb = EarlyStopping(monitor='val_loss', patience=10, mode='min')\n",
    "\n",
    "callbacks_list = [save_model_cb, early_stopping_cb]\n",
    "\n",
    "history = model.fit_generator(train_ds, steps_per_epoch=10, epochs=10,\n",
    "                              validation_data=val_ds, validation_steps=5,\n",
    "                              verbose=2, callbacks=callbacks_list)"
   ]
  },
  {
   "cell_type": "markdown",
   "metadata": {},
   "source": [
    "### Fit edilen modelin accuary ve loss grafiği çizdirildi."
   ]
  },
  {
   "cell_type": "code",
   "execution_count": 45,
   "metadata": {},
   "outputs": [
    {
     "data": {
      "image/png": "[encoded data removed]",
      "text/plain": [
       "<Figure size 864x288 with 2 Axes>"
      ]
     },
     "metadata": {
      "needs_background": "light"
     },
     "output_type": "display_data"
    }
   ],
   "source": [
    "%matplotlib inline\n",
    "import matplotlib.pyplot as plt\n",
    "\n",
    "f, (ax1, ax2) = plt.subplots(1, 2, figsize=(12, 4))\n",
    "t = f.suptitle('VGG16 Performance', fontsize=12)\n",
    "f.subplots_adjust(top=0.85, wspace=0.3)\n",
    "ax1.set_ylim((0.5,1))\n",
    "ax2.set_ylim((0,0.5))\n",
    "\n",
    "epoch_list = history.epoch\n",
    "ax1.plot(epoch_list, history.history['accuracy'], label='Train Accuracy')\n",
    "ax1.plot(epoch_list, history.history['val_accuracy'], label='Validation Accuracy')\n",
    "ax1.set_xticks(np.arange(0, epoch_list[-1], 3))\n",
    "ax1.set_ylabel('Accuracy Value')\n",
    "ax1.set_xlabel('Epoch')\n",
    "ax1.set_title('Accuracy')\n",
    "l1 = ax1.legend(loc=\"best\")\n",
    "\n",
    "ax2.plot(epoch_list, history.history['loss'], label='Train Loss')\n",
    "ax2.plot(epoch_list, history.history['val_loss'], label='Validation Loss')\n",
    "ax2.set_xticks(np.arange(0, epoch_list[-1], 3))\n",
    "ax2.set_ylabel('Loss Value')\n",
    "ax2.set_xlabel('Epoch')\n",
    "ax2.set_title('Loss')\n",
    "l2 = ax2.legend(loc=\"best\")"
   ]
  },
  {
   "cell_type": "code",
   "execution_count": 68,
   "metadata": {},
   "outputs": [
    {
     "name": "stdout",
     "output_type": "stream",
     "text": [
      "Epoch 1/15\n",
      "\n",
      "Epoch 1: val_accuracy did not improve from 0.95000\n",
      "15/15 - 47s - loss: 0.5076 - accuracy: 0.9479 - val_loss: 0.3008 - val_accuracy: 0.9438 - 47s/epoch - 3s/step\n",
      "Epoch 2/15\n",
      "\n",
      "Epoch 2: val_accuracy did not improve from 0.95000\n",
      "15/15 - 50s - loss: 0.4836 - accuracy: 0.9229 - val_loss: 1.6463 - val_accuracy: 0.8625 - 50s/epoch - 3s/step\n",
      "Epoch 3/15\n",
      "\n",
      "Epoch 3: val_accuracy did not improve from 0.95000\n",
      "15/15 - 49s - loss: 0.6155 - accuracy: 0.9333 - val_loss: 0.5002 - val_accuracy: 0.9312 - 49s/epoch - 3s/step\n",
      "Epoch 4/15\n",
      "\n",
      "Epoch 4: val_accuracy did not improve from 0.95000\n",
      "15/15 - 50s - loss: 0.4823 - accuracy: 0.9271 - val_loss: 0.5521 - val_accuracy: 0.9500 - 50s/epoch - 3s/step\n",
      "Epoch 5/15\n",
      "\n",
      "Epoch 5: val_accuracy did not improve from 0.95000\n",
      "15/15 - 52s - loss: 0.5632 - accuracy: 0.9354 - val_loss: 0.8179 - val_accuracy: 0.9250 - 52s/epoch - 3s/step\n",
      "Epoch 6/15\n",
      "\n",
      "Epoch 6: val_accuracy did not improve from 0.95000\n",
      "15/15 - 54s - loss: 0.5537 - accuracy: 0.9312 - val_loss: 1.0847 - val_accuracy: 0.9187 - 54s/epoch - 4s/step\n",
      "Epoch 7/15\n",
      "\n",
      "Epoch 7: val_accuracy did not improve from 0.95000\n",
      "15/15 - 50s - loss: 0.6505 - accuracy: 0.9375 - val_loss: 0.7432 - val_accuracy: 0.9000 - 50s/epoch - 3s/step\n",
      "Epoch 8/15\n",
      "\n",
      "Epoch 8: val_accuracy did not improve from 0.95000\n",
      "15/15 - 48s - loss: 0.7112 - accuracy: 0.9333 - val_loss: 1.0303 - val_accuracy: 0.9062 - 48s/epoch - 3s/step\n",
      "Epoch 9/15\n",
      "\n",
      "Epoch 9: val_accuracy did not improve from 0.95000\n",
      "15/15 - 51s - loss: 1.2669 - accuracy: 0.8979 - val_loss: 0.3192 - val_accuracy: 0.9500 - 51s/epoch - 3s/step\n",
      "Epoch 10/15\n",
      "\n",
      "Epoch 10: val_accuracy improved from 0.95000 to 0.95625, saving model to C:/Users/Arife/.keras/datasets\\PetImages\n",
      "INFO:tensorflow:Assets written to: C:/Users/Arife/.keras/datasets\\PetImages\\assets\n",
      "15/15 - 62s - loss: 0.7089 - accuracy: 0.9229 - val_loss: 0.6736 - val_accuracy: 0.9563 - 62s/epoch - 4s/step\n",
      "Epoch 11/15\n",
      "\n",
      "Epoch 11: val_accuracy did not improve from 0.95625\n",
      "15/15 - 54s - loss: 0.6242 - accuracy: 0.9229 - val_loss: 0.8444 - val_accuracy: 0.9312 - 54s/epoch - 4s/step\n"
     ]
    }
   ],
   "source": [
    "##Denemek için epoch sayısı yükseltilerek tekrar fit edildi.\n",
    "\n",
    "history = model.fit_generator(train_ds, steps_per_epoch=15, epochs=15,\n",
    "                              validation_data=val_ds, validation_steps=7,\n",
    "                              verbose=2, callbacks=callbacks_list)"
   ]
  },
  {
   "cell_type": "code",
   "execution_count": 71,
   "metadata": {},
   "outputs": [
    {
     "data": {
      "image/png": "[encoded data removed]",
      "text/plain": [
       "<Figure size 576x576 with 2 Axes>"
      ]
     },
     "metadata": {
      "needs_background": "light"
     },
     "output_type": "display_data"
    }
   ],
   "source": [
    "#Son fit edilen modelin loss ve accuary grafiği çizdirildi.\n",
    "\n",
    "acc = history.history['accuracy']\n",
    "val_acc = history.history['val_accuracy']\n",
    "\n",
    "loss = history.history['loss']\n",
    "val_loss = history.history['val_loss']\n",
    "\n",
    "plt.figure(figsize=(8, 8))\n",
    "plt.subplot(2, 1, 1)\n",
    "plt.plot(acc, label='Training Accuracy')\n",
    "plt.plot(val_acc, label='Validation Accuracy')\n",
    "plt.legend(loc='lower right')\n",
    "plt.ylabel('Accuracy')\n",
    "plt.ylim([min(plt.ylim()),1])\n",
    "plt.title('Training and Validation Accuracy')\n",
    "\n",
    "plt.subplot(2, 1, 2)\n",
    "plt.plot(loss, label='Training Loss')\n",
    "plt.plot(val_loss, label='Validation Loss')\n",
    "plt.legend(loc='upper right')\n",
    "plt.ylabel('Cross Entropy')\n",
    "plt.ylim([0,1.0])\n",
    "plt.title('Training and Validation Loss')\n",
    "plt.xlabel('epoch')\n",
    "plt.show()\n"
   ]
  },
  {
   "cell_type": "markdown",
   "metadata": {},
   "source": [
    "### Sonuç olarak kullanılan model 10 epoch kullanıldığında iyi bir accuary çizdi. Yani doğru tahmin yapabilir diyebiliriz. \n",
    "### Fakat epoch 15'e çıktığında model karmaşık bir hal aldı. "
   ]
  },
  {
   "cell_type": "markdown",
   "metadata": {},
   "source": []
  }
 ],
 "metadata": {
  "kernelspec": {
   "display_name": "Python 3.9.7 ('base')",
   "language": "python",
   "name": "python3"
  },
  "language_info": {
   "codemirror_mode": {
    "name": "ipython",
    "version": 3
   },
   "file_extension": ".py",
   "mimetype": "text/x-python",
   "name": "python",
   "nbconvert_exporter": "python",
   "pygments_lexer": "ipython3",
   "version": "3.9.7"
  },
  "orig_nbformat": 4,
  "vscode": {
   "interpreter": {
    "hash": "589a317f3dd0235f67d34f0e3fb1d2db1ba0e24fd273cb209c076f048b6b1176"
   }
  }
 },
 "nbformat": 4,
 "nbformat_minor": 2
}
